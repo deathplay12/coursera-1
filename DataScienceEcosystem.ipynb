{
  "nbformat": 4,
  "nbformat_minor": 0,
  "metadata": {
    "colab": {
      "provenance": [],
      "authorship_tag": "ABX9TyOU5zK5LvDfbHmKKYsknAVQ",
      "include_colab_link": true
    },
    "kernelspec": {
      "name": "python3",
      "display_name": "Python 3"
    },
    "language_info": {
      "name": "python"
    }
  },
  "cells": [
    {
      "cell_type": "markdown",
      "metadata": {
        "id": "view-in-github",
        "colab_type": "text"
      },
      "source": [
        "<a href=\"https://colab.research.google.com/github/deathplay12/coursera-1/blob/main/DataScienceEcosystem.ipynb\" target=\"_parent\"><img src=\"https://colab.research.google.com/assets/colab-badge.svg\" alt=\"Open In Colab\"/></a>"
      ]
    },
    {
      "cell_type": "markdown",
      "source": [
        "Data Science Tools and Ecosystem"
      ],
      "metadata": {
        "id": "OK2J8ZKi03DQ"
      }
    },
    {
      "cell_type": "markdown",
      "source": [
        "In this notebook, Data Science Tools and Ecosystem are summarized\n"
      ],
      "metadata": {
        "id": "H46O9T451PaN"
      }
    },
    {
      "cell_type": "markdown",
      "source": [
        "Some of the popular languages that Data Scientists use are:\n",
        "\n",
        "python\n",
        "\n",
        "r\n",
        "\n",
        "julia\n"
      ],
      "metadata": {
        "id": "bi6gmpL91f-N"
      }
    },
    {
      "cell_type": "markdown",
      "source": [
        "Some of the popular librries that Data Scientists use are:\n",
        "\n",
        "sklearn\n",
        "ggplot2\n",
        "pandas\n",
        "numpy\n",
        "julia\n"
      ],
      "metadata": {
        "id": "9g97t9ed17d6"
      }
    },
    {
      "cell_type": "markdown",
      "source": [
        "table of Data Science tools\n"
      ],
      "metadata": {
        "id": "r8Z0F9Q_2iJ8"
      }
    },
    {
      "cell_type": "markdown",
      "source": [
        "Below are a few examples of evaluating arithmetic expressions in Python"
      ],
      "metadata": {
        "id": "8QDJt4Au261N"
      }
    },
    {
      "cell_type": "code",
      "source": [
        "a = 2 + 3\n",
        "print(a)"
      ],
      "metadata": {
        "colab": {
          "base_uri": "https://localhost:8080/"
        },
        "id": "7YwHo4w62-ym",
        "outputId": "9a739101-0ac8-47c9-a315-a915c7f57861"
      },
      "execution_count": 2,
      "outputs": [
        {
          "output_type": "stream",
          "name": "stdout",
          "text": [
            "5\n"
          ]
        }
      ]
    },
    {
      "cell_type": "markdown",
      "source": [
        "expression to mutiply then add integersssions in Python"
      ],
      "metadata": {
        "id": "FS-Vy3wc3L6q"
      }
    },
    {
      "cell_type": "code",
      "source": [
        "a = 2 * 3\n",
        "b = a + 5\n",
        "print (b)"
      ],
      "metadata": {
        "colab": {
          "base_uri": "https://localhost:8080/"
        },
        "id": "8VP1M6nc3RrU",
        "outputId": "5be98826-87c2-4e20-b1dc-4cff66fe8b04"
      },
      "execution_count": 3,
      "outputs": [
        {
          "output_type": "stream",
          "name": "stdout",
          "text": [
            "11\n"
          ]
        }
      ]
    },
    {
      "cell_type": "markdown",
      "source": [
        "Create a code cell to convert minutes to hours"
      ],
      "metadata": {
        "id": "WyD9rbOF3kI1"
      }
    },
    {
      "cell_type": "code",
      "source": [
        " t = 200\n",
        " h = t / 6\n",
        " print (h)"
      ],
      "metadata": {
        "colab": {
          "base_uri": "https://localhost:8080/"
        },
        "id": "w9UR_ORf3lay",
        "outputId": "048b30b3-7b7b-4238-f502-510a036a1475"
      },
      "execution_count": 4,
      "outputs": [
        {
          "output_type": "stream",
          "name": "stdout",
          "text": [
            "33.333333333333336\n"
          ]
        }
      ]
    },
    {
      "cell_type": "markdown",
      "source": [
        "author"
      ],
      "metadata": {
        "id": "BrRXi8Ik37Ku"
      }
    },
    {
      "cell_type": "code",
      "source": [
        "print (\"priyanshu raj\")"
      ],
      "metadata": {
        "colab": {
          "base_uri": "https://localhost:8080/"
        },
        "id": "evXaT7Ni4Bzn",
        "outputId": "7ccc5b27-b58b-4623-afce-eae30e168d93"
      },
      "execution_count": 5,
      "outputs": [
        {
          "output_type": "stream",
          "name": "stdout",
          "text": [
            "priyanshu raj\n"
          ]
        }
      ]
    }
  ]
}